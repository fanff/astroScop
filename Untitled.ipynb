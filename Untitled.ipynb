{
 "cells": [
  {
   "cell_type": "code",
   "execution_count": 3,
   "id": "identified-medication",
   "metadata": {},
   "outputs": [],
   "source": [
    "cameraFovW=32\n",
    "cameraFovH=24\n",
    "cameraRot = 0 # deg\n",
    "\n",
    "imgw,imgh = 800,600\n",
    "\n",
    "\n",
    "pixAngleW = cameraFovW / imgw\n",
    "pixAngleH = cameraFovH / imgh\n",
    "\n"
   ]
  },
  {
   "cell_type": "code",
   "execution_count": 4,
   "id": "sound-method",
   "metadata": {},
   "outputs": [],
   "source": [
    "# Focal Ratio: 0.2 Resolution: 19.96\"x19.96\" per pixel Field of View: 22.48° x 16.85° Dawes Limit: 1.45 arc/secs"
   ]
  },
  {
   "cell_type": "code",
   "execution_count": 5,
   "id": "cooperative-robinson",
   "metadata": {},
   "outputs": [
    {
     "data": {
      "text/plain": [
       "(0.04, 0.04)"
      ]
     },
     "execution_count": 5,
     "metadata": {},
     "output_type": "execute_result"
    }
   ],
   "source": [
    "\n",
    "\n",
    "locAsc = 0\n",
    "locDec = 0\n",
    "\n",
    "pixAngleW,pixAngleH"
   ]
  },
  {
   "cell_type": "code",
   "execution_count": null,
   "id": "refined-louis",
   "metadata": {},
   "outputs": [],
   "source": []
  },
  {
   "cell_type": "code",
   "execution_count": 6,
   "id": "fatty-suspect",
   "metadata": {},
   "outputs": [],
   "source": [
    "import numpy as np\n"
   ]
  },
  {
   "cell_type": "code",
   "execution_count": null,
   "id": "sweet-customer",
   "metadata": {},
   "outputs": [],
   "source": [
    "\n",
    "\n"
   ]
  },
  {
   "cell_type": "code",
   "execution_count": 7,
   "id": "foreign-maintenance",
   "metadata": {},
   "outputs": [],
   "source": [
    "def localCoord(asc,dec,r=1):\n",
    "    \"\"\"\n",
    "    asc:phy\n",
    "    dec:teta\n",
    "    \"\"\"\n",
    "    ur = np.array([np.sin(dec)*np.cos(asc), \n",
    "                   \n",
    "                   np.sin(dec)*np.sin(asc), \n",
    "                   np.cos(dec)])\n",
    "\n",
    "    udec = np.array([np.cos(dec)*np.cos(asc),\n",
    "                   np.cos(dec)*np.sin(asc),\n",
    "                   -np.sin(dec)])\n",
    "\n",
    "    uasc = np.array([-np.sin(asc),np.cos(asc),0.0])\n",
    "\n",
    "    return  ur,udec,uasc\n",
    "\n",
    "def solidAngle(dec,dasc,ddec):\n",
    "    return np.sin(dec)* ddec*dasc\n",
    "def toRad(a):\n",
    "    return a*np.pi/180\n"
   ]
  },
  {
   "cell_type": "code",
   "execution_count": 11,
   "id": "floral-looking",
   "metadata": {},
   "outputs": [],
   "source": [
    "img,img_draw = getBaseOverlay(imgw,imgh)\n"
   ]
  },
  {
   "cell_type": "code",
   "execution_count": 12,
   "id": "stone-corruption",
   "metadata": {},
   "outputs": [
    {
     "data": {
      "image/png": "[encoded data removed]",
      "text/plain": [
       "<PIL.Image.Image image mode=RGBA size=800x600 at 0x2D74A85BEC8>"
      ]
     },
     "execution_count": 12,
     "metadata": {},
     "output_type": "execute_result"
    }
   ],
   "source": [
    "relw,relh = .8,.3\n",
    "crosscenter  = img.size[0]*relw,img.size[1]*relh\n",
    "\n",
    "drawCircle(img_draw,crosscenter[0],crosscenter[1],pixRadius=15,width=2,outline = \"#F0F\")\n",
    "\n",
    "img"
   ]
  },
  {
   "cell_type": "code",
   "execution_count": 13,
   "id": "polyphonic-fiber",
   "metadata": {},
   "outputs": [],
   "source": [
    "def rotMat2D(a):\n",
    "    return np.array([[np.cos(toRad(a)), -np.sin(toRad(a))],\n",
    "                        [np.sin(toRad(a)),np.cos(toRad(a))]])\n"
   ]
  },
  {
   "cell_type": "code",
   "execution_count": 14,
   "id": "incomplete-deadline",
   "metadata": {},
   "outputs": [],
   "source": [
    "def polarToCart(r,asc,dec):\n",
    "    return np.array([r*np.sin(dec)*np.cos(asc),r*np.sin(dec)*np.sin(asc),r*np.cos(dec)])"
   ]
  },
  {
   "cell_type": "code",
   "execution_count": 15,
   "id": "middle-image",
   "metadata": {},
   "outputs": [],
   "source": [
    "from PIL import Image,ImageDraw\n",
    "\n",
    "def getBaseOverlay(imgw,imgh):\n",
    "    img = Image.new(\"RGBA\",(imgw,imgh),color=\"#0000\")\n",
    "    img_draw = ImageDraw.Draw(img)\n",
    "    \n",
    "    return img,img_draw\n",
    "\n",
    "def drawCircle(img_draw,w,h,pixRadius,width=2,outline = \"#0F0F\"):\n",
    "    \n",
    "    img_draw.ellipse((w-pixRadius,h-pixRadius, w+pixRadius,h+pixRadius), fill = None, outline =outline,width=2)\n",
    "\n"
   ]
  },
  {
   "cell_type": "code",
   "execution_count": null,
   "id": "featured-hardwood",
   "metadata": {},
   "outputs": [],
   "source": []
  },
  {
   "cell_type": "code",
   "execution_count": 17,
   "id": "original-paint",
   "metadata": {},
   "outputs": [
    {
     "data": {
      "image/png": "[encoded data removed]",
      "text/plain": [
       "<PIL.Image.Image image mode=RGBA size=800x600 at 0x2D74A85BF08>"
      ]
     },
     "execution_count": 17,
     "metadata": {},
     "output_type": "execute_result"
    }
   ],
   "source": [
    "\n",
    "\n",
    "cameraFov= 1500\n",
    "cameraRot = 20 # deg\n",
    "\n",
    "imgw,imgh = 800,600\n",
    "locAsc = 5\n",
    "locDec = 20\n",
    "\n",
    "\n",
    "def makeScopeOverlay(cameraFov,cameraRot,locAsc,locDec ,   imgw,imgh):\n",
    "\n",
    "    \n",
    "\n",
    "    img,img_draw = getBaseOverlay(imgw,imgh)\n",
    "    imgCenter = np.array([imgw/2,imgh/2])\n",
    "    drawCircle(img_draw,imgCenter[0],imgCenter[1],2,outline=\"#F00F\")\n",
    "\n",
    "\n",
    "\n",
    "\n",
    "\n",
    "    localUnitVectors = localCoord(toRad(locAsc),toRad(locDec),r=cameraFov)\n",
    "\n",
    "    P = np.array(localUnitVectors)\n",
    "    camPos = polarToCart(cameraFov,toRad(locAsc),toRad(locDec))\n",
    "\n",
    "    camRotMat = rotMat2D(cameraRot)\n",
    "\n",
    "\n",
    "\n",
    "    for asc0 in np.linspace(-180,180,37)[:-1]:\n",
    "        for dec0 in np.linspace(0,180,19):\n",
    "            res = polarToCart(cameraFov,toRad(asc0),toRad(dec0))\n",
    "\n",
    "\n",
    "            localCart = np.matmul(P,res-camPos)\n",
    "\n",
    "            if abs(localCart[0])<= cameraFov/3:\n",
    "\n",
    "\n",
    "\n",
    "\n",
    "                rotatedOnImage = np.matmul(camRotMat,localCart[1:])\n",
    "\n",
    "\n",
    "                drawCircle(img_draw,rotatedOnImage[0]+ imgCenter[0],rotatedOnImage[1]+ imgCenter[1],10)\n",
    "    return img\n",
    "    \n",
    "    \n",
    "makeScopeOverlay(cameraFov=1000,cameraRot=0,locAsc=4,locDec=0,   imgw=800,imgh=600)"
   ]
  },
  {
   "cell_type": "code",
   "execution_count": null,
   "id": "invisible-while",
   "metadata": {},
   "outputs": [],
   "source": []
  },
  {
   "cell_type": "code",
   "execution_count": 10,
   "id": "finnish-marathon",
   "metadata": {},
   "outputs": [
    {
     "data": {
      "text/plain": [
       "47.0659060099954"
      ]
     },
     "execution_count": 10,
     "metadata": {},
     "output_type": "execute_result"
    }
   ],
   "source": [
    "pixAngle = 17 / imgw\n",
    "1/np.arctan(pixAngle)"
   ]
  },
  {
   "cell_type": "code",
   "execution_count": 11,
   "id": "pointed-trademark",
   "metadata": {},
   "outputs": [
    {
     "data": {
      "text/plain": [
       "0.021246802298624183"
      ]
     },
     "execution_count": 11,
     "metadata": {},
     "output_type": "execute_result"
    }
   ],
   "source": [
    "np.arctan(pixAngle)"
   ]
  },
  {
   "cell_type": "code",
   "execution_count": 12,
   "id": "million-samoa",
   "metadata": {},
   "outputs": [
    {
     "ename": "NameError",
     "evalue": "name 'origin' is not defined",
     "output_type": "error",
     "traceback": [
      "\u001b[1;31m---------------------------------------------------------------------------\u001b[0m",
      "\u001b[1;31mNameError\u001b[0m                                 Traceback (most recent call last)",
      "\u001b[1;32m<ipython-input-12-9791efd8ca96>\u001b[0m in \u001b[0;36m<module>\u001b[1;34m\u001b[0m\n\u001b[0;32m     48\u001b[0m \u001b[1;33m\u001b[0m\u001b[0m\n\u001b[0;32m     49\u001b[0m \u001b[1;33m\u001b[0m\u001b[0m\n\u001b[1;32m---> 50\u001b[1;33m         \u001b[0mimgCoord\u001b[0m \u001b[1;33m=\u001b[0m \u001b[1;33m(\u001b[0m\u001b[0morigin\u001b[0m\u001b[1;33m+\u001b[0m\u001b[0mpixCoord\u001b[0m\u001b[1;33m)\u001b[0m\u001b[1;33m\u001b[0m\u001b[1;33m\u001b[0m\u001b[0m\n\u001b[0m\u001b[0;32m     51\u001b[0m \u001b[1;33m\u001b[0m\u001b[0m\n\u001b[0;32m     52\u001b[0m \u001b[1;33m\u001b[0m\u001b[0m\n",
      "\u001b[1;31mNameError\u001b[0m: name 'origin' is not defined"
     ]
    }
   ],
   "source": [
    "\n",
    "\n",
    "\n",
    "cameraFov= 30\n",
    "cameraRot = 0 # deg\n",
    "\n",
    "imgw,imgh = 800,600\n",
    "\n",
    "\n",
    "pixAngle = cameraFov / imgw\n",
    "\n",
    "img,img_draw = getBaseOverlay(imgw,imgh)\n",
    "\n",
    "locAsc = 0\n",
    "locDec = 0\n",
    "\n",
    "\n",
    "\n",
    "\n",
    "localUnitVectors = localCoord(locAsc,locDec)\n",
    "\n",
    "\n",
    "imgCenter = np.array([imgw/2,imgh/2])\n",
    "                      \n",
    "                      \n",
    "locrotmat = np.array([[np.cos(toRad(locAsc)), -np.sin(toRad(locAsc))],\n",
    "                        [np.sin(toRad(locAsc)),np.cos(toRad(locAsc))]])\n",
    "\n",
    "drawCircle(img_draw,imgCenter[0],imgCenter[1],2,outline=\"#F00F\")\n",
    "\n",
    "\n",
    "\n",
    "\n",
    "\n",
    "\n",
    "for asc0 in [-10,0,10]:\n",
    "    for dec0 in [-10,0,10,20]:\n",
    "        asc = asc0-locAsc \n",
    "        dec = dec0-locDec \n",
    "        \n",
    "        \n",
    "        pixDist = (dec)/pixAngle\n",
    "        \n",
    "        \n",
    "        rotmat = np.array([[np.cos(toRad(asc)), -np.sin(toRad(asc))],\n",
    "                        [np.sin(toRad(asc)),np.cos(toRad(asc))]])\n",
    "        \n",
    "        \n",
    "        pixCoordUnit = np.matmul(rotmat, np.array([1,0]))\n",
    "        pixCoord = pixCoordUnit * pixDist\n",
    "        \n",
    "        \n",
    "        imgCoord = (origin+pixCoord)\n",
    "        \n",
    "        \n",
    "        drawCircle(img_draw,imgCoord[0],imgCoord[1],10)\n",
    "        \n",
    "img       \n",
    "        "
   ]
  },
  {
   "cell_type": "code",
   "execution_count": 13,
   "id": "intended-brighton",
   "metadata": {},
   "outputs": [
    {
     "data": {
      "text/plain": [
       "array([ 3.52104891,  0.30805186, -0.37149079])"
      ]
     },
     "execution_count": 13,
     "metadata": {},
     "output_type": "execute_result"
    }
   ],
   "source": [
    "camerainCart = polarToCart(17,toRad(locAsc),toRad(locDec))\n",
    "someObjectinCart = polarToCart(17,toRad(5),toRad(12))\n",
    "someObjectinCart-camerainCart"
   ]
  },
  {
   "cell_type": "code",
   "execution_count": 14,
   "id": "disabled-asbestos",
   "metadata": {},
   "outputs": [
    {
     "data": {
      "text/plain": [
       "'for asc in np.linspace(-180,180,37):\\n    for dec in np.linspace(-180,180,24*4+1):\\n        \\n        pixDist = (dec)/pixAngle\\n        \\n        rotmat = np.array([[np.cos(toRad(asc)), -np.sin(toRad(asc))],\\n                        [np.sin(toRad(asc)),np.cos(toRad(asc))]])\\n        \\n        pixCoordUnit = np.matmul(rotmat, np.matmul(locrotmat,np.array([0,1])))\\n        pixCoord = pixCoordUnit * pixDist\\n        \\n        \\n        imgCoord = (origin+pixCoord)\\n        \\n        \\n        drawCircle(img_draw,imgCoord[0],imgCoord[1],10)\\n  '"
      ]
     },
     "execution_count": 14,
     "metadata": {},
     "output_type": "execute_result"
    }
   ],
   "source": [
    "\"\"\"for asc in np.linspace(-180,180,37):\n",
    "    for dec in np.linspace(-180,180,24*4+1):\n",
    "        \n",
    "        pixDist = (dec)/pixAngle\n",
    "        \n",
    "        rotmat = np.array([[np.cos(toRad(asc)), -np.sin(toRad(asc))],\n",
    "                        [np.sin(toRad(asc)),np.cos(toRad(asc))]])\n",
    "        \n",
    "        pixCoordUnit = np.matmul(rotmat, np.matmul(locrotmat,np.array([0,1])))\n",
    "        pixCoord = pixCoordUnit * pixDist\n",
    "        \n",
    "        \n",
    "        imgCoord = (origin+pixCoord)\n",
    "        \n",
    "        \n",
    "        drawCircle(img_draw,imgCoord[0],imgCoord[1],10)\n",
    "  \"\"\"  "
   ]
  },
  {
   "cell_type": "code",
   "execution_count": 15,
   "id": "inappropriate-gazette",
   "metadata": {},
   "outputs": [
    {
     "data": {
      "text/plain": [
       "array([-180., -165., -150., -135., -120., -105.,  -90.,  -75.,  -60.,\n",
       "        -45.,  -30.,  -15.,    0.,   15.,   30.,   45.,   60.,   75.,\n",
       "         90.,  105.,  120.,  135.,  150.,  165.,  180.])"
      ]
     },
     "execution_count": 15,
     "metadata": {},
     "output_type": "execute_result"
    }
   ],
   "source": [
    "np.linspace(-180,180,25)"
   ]
  },
  {
   "cell_type": "code",
   "execution_count": 16,
   "id": "binary-korea",
   "metadata": {},
   "outputs": [
    {
     "data": {
      "text/plain": [
       "array([-90., -45.,   0.,  45.,  90.])"
      ]
     },
     "execution_count": 16,
     "metadata": {},
     "output_type": "execute_result"
    }
   ],
   "source": [
    "np.linspace(-90,90,5)"
   ]
  },
  {
   "cell_type": "code",
   "execution_count": null,
   "id": "italian-manor",
   "metadata": {},
   "outputs": [],
   "source": []
  },
  {
   "cell_type": "code",
   "execution_count": 17,
   "id": "removable-raleigh",
   "metadata": {},
   "outputs": [
    {
     "data": {
      "text/plain": [
       "30.0"
      ]
     },
     "execution_count": 17,
     "metadata": {},
     "output_type": "execute_result"
    }
   ],
   "source": [
    "360/12"
   ]
  },
  {
   "cell_type": "code",
   "execution_count": 18,
   "id": "retired-coast",
   "metadata": {},
   "outputs": [
    {
     "data": {
      "text/plain": [
       "13453200"
      ]
     },
     "execution_count": 18,
     "metadata": {},
     "output_type": "execute_result"
    }
   ],
   "source": [
    "149480*90\n"
   ]
  },
  {
   "cell_type": "code",
   "execution_count": 19,
   "id": "royal-bradford",
   "metadata": {},
   "outputs": [
    {
     "data": {
      "text/plain": [
       "1630.6909090909091"
      ]
     },
     "execution_count": 19,
     "metadata": {},
     "output_type": "execute_result"
    }
   ],
   "source": [
    "13453200/8250\n"
   ]
  },
  {
   "cell_type": "code",
   "execution_count": null,
   "id": "efficient-motorcycle",
   "metadata": {},
   "outputs": [],
   "source": []
  },
  {
   "cell_type": "code",
   "execution_count": null,
   "id": "close-reader",
   "metadata": {},
   "outputs": [],
   "source": []
  },
  {
   "cell_type": "code",
   "execution_count": null,
   "id": "worth-chase",
   "metadata": {},
   "outputs": [],
   "source": []
  },
  {
   "cell_type": "code",
   "execution_count": null,
   "id": "biblical-chicken",
   "metadata": {},
   "outputs": [],
   "source": []
  },
  {
   "cell_type": "code",
   "execution_count": null,
   "id": "placed-angel",
   "metadata": {},
   "outputs": [],
   "source": [
    "\"\"\"x,y,z = polarToCart(1,toRad(asc),toRad(dec))\n",
    "\n",
    "\n",
    "        res= np.array(localUnitVectors[0]*x+localUnitVectors[1]*y+localUnitVectors[2]*z)\n",
    "        \n",
    "        \n",
    "        imgCoord = (imgCenter+(res*50)[1:2])\n",
    "        drawCircle(img_draw,imgCoord[0],imgCoord[1],10)\"\"\""
   ]
  },
  {
   "cell_type": "code",
   "execution_count": null,
   "id": "incorporated-statement",
   "metadata": {},
   "outputs": [],
   "source": []
  },
  {
   "cell_type": "code",
   "execution_count": null,
   "id": "greatest-jimmy",
   "metadata": {},
   "outputs": [],
   "source": []
  },
  {
   "cell_type": "code",
   "execution_count": 475,
   "id": "colonial-prevention",
   "metadata": {},
   "outputs": [],
   "source": [
    "from astropy import units as u\n",
    "\n",
    "from astropy.time import Time\n",
    "from astropy.coordinates import SkyCoord,AltAz,EarthLocation\n",
    "\n",
    "\n",
    "\n",
    "\n",
    "\n",
    "\n",
    "\"\"\"Latitude : 43.600000\n",
    "Longitude : 1.433333\"\"\"\n",
    "\n",
    "\n",
    "scopeaz =  1.433333*u.degree\n",
    "scopealt = 43.6*u.degree\n",
    "\n",
    "\n",
    "scopeazerr =  0*u.degree\n",
    "scopealterr = 0*u.degree # error measure\n",
    "height=145*u.m\n",
    "\n",
    "\n",
    "time = Time('2020-7-12 00:00:00')\n",
    "\n",
    "\n",
    "\n",
    "local = AltAz(obstime=time,location=EarthLocation(\n",
    "                        lon=scopeaz,\n",
    "                          lat=scopealt,\n",
    "                          height=height))\n",
    "\n"
   ]
  },
  {
   "cell_type": "code",
   "execution_count": 480,
   "id": "cultural-multimedia",
   "metadata": {},
   "outputs": [],
   "source": [
    "aloc= SkyCoord(ra=0*u.degree, dec=90*u.degree)\n",
    "\n",
    "r= aloc.transform_to(local)\n",
    "\n",
    "\n",
    "\n",
    "rr = AltAz(r.az-scopeazerr,r.alt-scopealterr,obstime=time,location=EarthLocation(\n",
    "                        lon=scopeaz,\n",
    "                          lat=scopealt,\n",
    "                          height=height))"
   ]
  },
  {
   "cell_type": "code",
   "execution_count": 489,
   "id": "molecular-contrast",
   "metadata": {},
   "outputs": [
    {
     "ename": "ConvertError",
     "evalue": "Cannot transform from <class 'astropy.coordinates.builtin_frames.altaz.AltAz'> to <class 'str'>",
     "output_type": "error",
     "traceback": [
      "\u001b[1;31m---------------------------------------------------------------------------\u001b[0m",
      "\u001b[1;31mConvertError\u001b[0m                              Traceback (most recent call last)",
      "\u001b[1;32m<ipython-input-489-60a1062b8651>\u001b[0m in \u001b[0;36m<module>\u001b[1;34m\u001b[0m\n\u001b[1;32m----> 1\u001b[1;33m \u001b[0mrr\u001b[0m\u001b[1;33m.\u001b[0m\u001b[0mtransform_to\u001b[0m\u001b[1;33m(\u001b[0m\u001b[1;34m\"icrs\"\u001b[0m\u001b[1;33m)\u001b[0m\u001b[1;33m\u001b[0m\u001b[1;33m\u001b[0m\u001b[0m\n\u001b[0m",
      "\u001b[1;32me:\\code\\astroscop\\venv\\lib\\site-packages\\astropy\\coordinates\\baseframe.py\u001b[0m in \u001b[0;36mtransform_to\u001b[1;34m(self, new_frame)\u001b[0m\n\u001b[0;32m   1226\u001b[0m                 \u001b[1;32mreturn\u001b[0m \u001b[0mnew_frame\u001b[0m\u001b[1;33m.\u001b[0m\u001b[0mrealize_frame\u001b[0m\u001b[1;33m(\u001b[0m\u001b[0mself\u001b[0m\u001b[1;33m.\u001b[0m\u001b[0mdata\u001b[0m\u001b[1;33m)\u001b[0m\u001b[1;33m\u001b[0m\u001b[1;33m\u001b[0m\u001b[0m\n\u001b[0;32m   1227\u001b[0m             \u001b[0mmsg\u001b[0m \u001b[1;33m=\u001b[0m \u001b[1;34m'Cannot transform from {0} to {1}'\u001b[0m\u001b[1;33m\u001b[0m\u001b[1;33m\u001b[0m\u001b[0m\n\u001b[1;32m-> 1228\u001b[1;33m             \u001b[1;32mraise\u001b[0m \u001b[0mConvertError\u001b[0m\u001b[1;33m(\u001b[0m\u001b[0mmsg\u001b[0m\u001b[1;33m.\u001b[0m\u001b[0mformat\u001b[0m\u001b[1;33m(\u001b[0m\u001b[0mself\u001b[0m\u001b[1;33m.\u001b[0m\u001b[0m__class__\u001b[0m\u001b[1;33m,\u001b[0m \u001b[0mnew_frame\u001b[0m\u001b[1;33m.\u001b[0m\u001b[0m__class__\u001b[0m\u001b[1;33m)\u001b[0m\u001b[1;33m)\u001b[0m\u001b[1;33m\u001b[0m\u001b[1;33m\u001b[0m\u001b[0m\n\u001b[0m\u001b[0;32m   1229\u001b[0m         \u001b[1;32mreturn\u001b[0m \u001b[0mtrans\u001b[0m\u001b[1;33m(\u001b[0m\u001b[0mself\u001b[0m\u001b[1;33m,\u001b[0m \u001b[0mnew_frame\u001b[0m\u001b[1;33m)\u001b[0m\u001b[1;33m\u001b[0m\u001b[1;33m\u001b[0m\u001b[0m\n\u001b[0;32m   1230\u001b[0m \u001b[1;33m\u001b[0m\u001b[0m\n",
      "\u001b[1;31mConvertError\u001b[0m: Cannot transform from <class 'astropy.coordinates.builtin_frames.altaz.AltAz'> to <class 'str'>"
     ]
    }
   ],
   "source": [
    "rr.transform_to(\"icrs\")"
   ]
  },
  {
   "cell_type": "code",
   "execution_count": 249,
   "id": "gentle-boating",
   "metadata": {},
   "outputs": [
    {
     "data": {
      "text/plain": [
       "(<ICRS Coordinate: (ra, dec) in deg\n",
       "     (41.98649589, 4.36215486)>,\n",
       " <ICRS Coordinate: (ra, dec) in deg\n",
       "     (41.98649589, 4.36215486)>)"
      ]
     },
     "execution_count": 249,
     "metadata": {},
     "output_type": "execute_result"
    }
   ],
   "source": [
    "localSky = SkyCoord(ra=10.625*u.degree, dec=42.2*u.degree)\n",
    "\n",
    "\n",
    "local = AltAz(obstime=time,location=localCoord)\n",
    "\n",
    "\n",
    "\n",
    "\n",
    "# get a location\n",
    "aloc= SkyCoord(ra=0*u.degree, dec=10*u.degree)\n",
    "\n",
    "\n",
    "# to local altaz\n",
    "r = aloc.transform_to(local)\n",
    "\n",
    "\n",
    "scopeErr1 = AltAz(r.az-scopeaz,r.alt-scopealt,obstime=time,location=localCoord)\n",
    "# in scope\n",
    "inscope = scopeErr1.transform_to(localSky)\n",
    "\n",
    "\n",
    "\n",
    "scope = SkyCoord(ra=scopeasc, dec=scopeDec)\n",
    "\n",
    "scopeErr1.transform_to(scope),inscope"
   ]
  },
  {
   "cell_type": "code",
   "execution_count": 186,
   "id": "dying-beginning",
   "metadata": {},
   "outputs": [
    {
     "data": {
      "text/plain": [
       "<AltAz Frame (obstime=2020-07-12 23:00:00.000, location=(4644577.94884152, 4211446.1122279, 1168289.37487442) m, pressure=0.0 hPa, temperature=0.0 deg_C, relative_humidity=0.0, obswl=1.0 micron)>"
      ]
     },
     "execution_count": 186,
     "metadata": {},
     "output_type": "execute_result"
    }
   ],
   "source": [
    "scopeShift"
   ]
  },
  {
   "cell_type": "code",
   "execution_count": 187,
   "id": "outside-mouth",
   "metadata": {},
   "outputs": [
    {
     "data": {
      "text/latex": [
       "$\\mathrm{{}^{h}}$"
      ],
      "text/plain": [
       "Unit(\"hourangle\")"
      ]
     },
     "execution_count": 187,
     "metadata": {},
     "output_type": "execute_result"
    }
   ],
   "source": [
    "u.hourangle"
   ]
  },
  {
   "cell_type": "code",
   "execution_count": 196,
   "id": "resistant-qatar",
   "metadata": {},
   "outputs": [
    {
     "data": {
      "text/plain": [
       "<SkyCoord (AltAz: obstime=2020-07-12 23:00:00.000, location=(4644577.94884152, 4211446.1122279, 1168289.37487442) m, pressure=0.0 hPa, temperature=0.0 deg_C, relative_humidity=0.0, obswl=1.0 micron): (az, alt) in deg\n",
       "    (86.7541959, 48.94051161)>"
      ]
     },
     "execution_count": 196,
     "metadata": {},
     "output_type": "execute_result"
    }
   ],
   "source": []
  },
  {
   "cell_type": "code",
   "execution_count": 190,
   "id": "joint-wholesale",
   "metadata": {},
   "outputs": [
    {
     "data": {
      "text/plain": [
       "<SkyCoord (AltAz: obstime=2020-07-12 23:00:00.000, location=(4644577.94884152, 4211446.1122279, 1168289.37487442) m, pressure=0.0 hPa, temperature=0.0 deg_C, relative_humidity=0.0, obswl=1.0 micron): (az, alt) in deg\n",
       "    (45.3758629, 34.57405904)>"
      ]
     },
     "execution_count": 190,
     "metadata": {},
     "output_type": "execute_result"
    }
   ],
   "source": []
  },
  {
   "cell_type": "code",
   "execution_count": null,
   "id": "equipped-county",
   "metadata": {},
   "outputs": [],
   "source": []
  },
  {
   "cell_type": "code",
   "execution_count": null,
   "id": "elect-amsterdam",
   "metadata": {},
   "outputs": [],
   "source": []
  }
 ],
 "metadata": {
  "kernelspec": {
   "display_name": "Python 3",
   "language": "python",
   "name": "python3"
  },
  "language_info": {
   "codemirror_mode": {
    "name": "ipython",
    "version": 3
   },
   "file_extension": ".py",
   "mimetype": "text/x-python",
   "name": "python",
   "nbconvert_exporter": "python",
   "pygments_lexer": "ipython3",
   "version": "3.7.9"
  }
 },
 "nbformat": 4,
 "nbformat_minor": 5
}
